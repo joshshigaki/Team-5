{
 "cells": [
  {
   "cell_type": "code",
   "execution_count": 4,
   "metadata": {},
   "outputs": [],
   "source": [
    "import pandas as pd\n",
    "import requests"
   ]
  },
  {
   "cell_type": "code",
   "execution_count": 7,
   "metadata": {},
   "outputs": [
    {
     "name": "stdout",
     "output_type": "stream",
     "text": [
      "['Purple Charles', 'Vallejo Holistic Health Center', '420 Collective Delivery', 'Bad Fish Delivery', \"Doctor's Orders\", 'Mt. Diablo CARE Collective', 'HTP Group', 'Cookies 415', 'Hrvst', 'Eva', 'Purple Charles', 'Vallejo Holistic Health Center', '420 Collective Delivery', 'Bad Fish Delivery', \"Doctor's Orders\", 'Mt. Diablo CARE Collective', 'HTP Group', 'Cookies 415', 'Hrvst', 'Eva']\n"
     ]
    }
   ],
   "source": [
    "URL = \"https://www.cannabisreports.com/api/v1.0/dispensaries?\"\n",
    "\n",
    "zip_list = []\n",
    "dispensary_list = []\n",
    "city = []\n",
    "state = []\n",
    "\n",
    "\n",
    "for x in range(0, 2):\n",
    "\n",
    "  \n",
    "    query_url = f\"{URL}&page={x}\"\n",
    "    dispensaries = requests.get(query_url).json()\n",
    "  \n",
    "\n",
    "    for y in range(0, 10):\n",
    "        dispensary_list.append(dispensaries['data'][y]['name'])\n",
    "        zip_list.append(dispensaries['data'][y]['name'])\n",
    "        city.append(dispensaries['data'][y]['name'])\n",
    "        state.append(dispensaries['data'][y]['name'])\n",
    "\n",
    "print(dispensary_list)"
   ]
  },
  {
   "cell_type": "code",
   "execution_count": null,
   "metadata": {},
   "outputs": [],
   "source": []
  }
 ],
 "metadata": {
  "kernelspec": {
   "display_name": "Python [conda env:pythondata]",
   "language": "python",
   "name": "conda-env-pythondata-py"
  },
  "language_info": {
   "codemirror_mode": {
    "name": "ipython",
    "version": 3
   },
   "file_extension": ".py",
   "mimetype": "text/x-python",
   "name": "python",
   "nbconvert_exporter": "python",
   "pygments_lexer": "ipython3",
   "version": "3.6.5"
  }
 },
 "nbformat": 4,
 "nbformat_minor": 2
}
